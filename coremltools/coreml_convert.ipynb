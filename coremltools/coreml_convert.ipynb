{
 "cells": [
  {
   "cell_type": "code",
   "execution_count": 1,
   "metadata": {
    "collapsed": true
   },
   "outputs": [],
   "source": [
    "from coremltools.converters.keras import _keras_converter as converter\n",
    "import coremltools\n",
    "import keras"
   ]
  },
  {
   "cell_type": "code",
   "execution_count": 2,
   "metadata": {},
   "outputs": [
    {
     "data": {
      "text/plain": [
       "'2.0.4'"
      ]
     },
     "execution_count": 2,
     "metadata": {},
     "output_type": "execute_result"
    }
   ],
   "source": [
    "keras.__version__"
   ]
  },
  {
   "cell_type": "code",
   "execution_count": 7,
   "metadata": {},
   "outputs": [
    {
     "name": "stdout",
     "output_type": "stream",
     "text": [
      "True\n",
      "0 : input_1, <keras.engine.topology.InputLayer object at 0x130517410>\n",
      "1 : block1_conv1, <keras.layers.convolutional.Conv2D object at 0x11f3df8d0>\n",
      "2 : block1_conv1__activation__, <keras.layers.core.Activation object at 0x12f48d1d0>\n",
      "3 : block1_conv2, <keras.layers.convolutional.Conv2D object at 0x1304e2f90>\n",
      "4 : block1_conv2__activation__, <keras.layers.core.Activation object at 0x12f48df50>\n",
      "5 : block1_pool, <keras.layers.pooling.MaxPooling2D object at 0x11b83cd50>\n",
      "6 : block2_conv1, <keras.layers.convolutional.Conv2D object at 0x11b85b0d0>\n",
      "7 : block2_conv1__activation__, <keras.layers.core.Activation object at 0x12f49c450>\n",
      "8 : block2_conv2, <keras.layers.convolutional.Conv2D object at 0x1304ede50>\n",
      "9 : block2_conv2__activation__, <keras.layers.core.Activation object at 0x12f49c790>\n",
      "10 : block2_pool, <keras.layers.pooling.MaxPooling2D object at 0x11ee1a490>\n",
      "11 : block3_conv1, <keras.layers.convolutional.Conv2D object at 0x130517e10>\n",
      "12 : block3_conv1__activation__, <keras.layers.core.Activation object at 0x12f44fed0>\n",
      "13 : block3_conv2, <keras.layers.convolutional.Conv2D object at 0x11ee59b90>\n",
      "14 : block3_conv2__activation__, <keras.layers.core.Activation object at 0x130517350>\n",
      "15 : block3_conv3, <keras.layers.convolutional.Conv2D object at 0x1213ce950>\n",
      "16 : block3_conv3__activation__, <keras.layers.core.Activation object at 0x12f4aabd0>\n",
      "17 : block3_pool, <keras.layers.pooling.MaxPooling2D object at 0x1214781d0>\n",
      "18 : block4_conv1, <keras.layers.convolutional.Conv2D object at 0x12145d610>\n",
      "19 : block4_conv1__activation__, <keras.layers.core.Activation object at 0x12f4eabd0>\n",
      "20 : block4_conv2, <keras.layers.convolutional.Conv2D object at 0x1213dffd0>\n",
      "21 : block4_conv2__activation__, <keras.layers.core.Activation object at 0x12f51ad10>\n",
      "22 : block4_conv3, <keras.layers.convolutional.Conv2D object at 0x12148ac90>\n",
      "23 : block4_conv3__activation__, <keras.layers.core.Activation object at 0x12f51ac10>\n",
      "24 : block4_pool, <keras.layers.pooling.MaxPooling2D object at 0x1214e6390>\n",
      "25 : block5_conv1, <keras.layers.convolutional.Conv2D object at 0x121524710>\n",
      "26 : block5_conv1__activation__, <keras.layers.core.Activation object at 0x12f51abd0>\n",
      "27 : block5_conv2, <keras.layers.convolutional.Conv2D object at 0x1215319d0>\n",
      "28 : block5_conv2__activation__, <keras.layers.core.Activation object at 0x12f51a4d0>\n",
      "29 : block5_conv3, <keras.layers.convolutional.Conv2D object at 0x1215dc110>\n",
      "30 : block5_conv3__activation__, <keras.layers.core.Activation object at 0x12f51a050>\n",
      "31 : block5_pool, <keras.layers.pooling.MaxPooling2D object at 0x1215438d0>\n",
      "32 : flatten_1, <keras.layers.core.Flatten object at 0x12160bfd0>\n",
      "33 : dense_1, <keras.layers.core.Dense object at 0x12162ad50>\n",
      "34 : dense_1__activation__, <keras.layers.core.Activation object at 0x12f528f50>\n",
      "35 : dense_2, <keras.layers.core.Dense object at 0x121667410>\n",
      "36 : dense_2__activation__, <keras.layers.core.Activation object at 0x12f528e10>\n"
     ]
    }
   ],
   "source": [
    "classes = ['apple', 'banana', 'cherry', 'grape', 'melon', 'orange', 'strawberry']\n",
    "model_path = \"../classifier/results/model_vgg16_test.h5\"\n",
    "print(coremltools.converters.keras._HAS_KERAS2_TF)\n",
    "coreml_model = converter.convert(model_path, input_names='image', image_input_names='image', class_labels=classes)"
   ]
  },
  {
   "cell_type": "code",
   "execution_count": 8,
   "metadata": {
    "collapsed": true
   },
   "outputs": [],
   "source": [
    "coreml_model.save('./models/sample_model.mlmodel')"
   ]
  },
  {
   "cell_type": "code",
   "execution_count": null,
   "metadata": {
    "collapsed": true
   },
   "outputs": [],
   "source": []
  }
 ],
 "metadata": {
  "kernelspec": {
   "display_name": "Python 2",
   "language": "python",
   "name": "python2"
  },
  "language_info": {
   "codemirror_mode": {
    "name": "ipython",
    "version": 2
   },
   "file_extension": ".py",
   "mimetype": "text/x-python",
   "name": "python",
   "nbconvert_exporter": "python",
   "pygments_lexer": "ipython2",
   "version": "2.7.13"
  }
 },
 "nbformat": 4,
 "nbformat_minor": 2
}
