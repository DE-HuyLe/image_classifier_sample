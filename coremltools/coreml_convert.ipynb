{
 "cells": [
  {
   "cell_type": "code",
   "execution_count": 11,
   "metadata": {
    "collapsed": true
   },
   "outputs": [],
   "source": [
    "import coremltools"
   ]
  },
  {
   "cell_type": "code",
   "execution_count": 12,
   "metadata": {},
   "outputs": [
    {
     "name": "stdout",
     "output_type": "stream",
     "text": [
      "0 : input_1, <keras.engine.topology.InputLayer object at 0x1301acdd0>\n",
      "1 : block1_conv1, <keras.layers.convolutional.Conv2D object at 0x11ad37cd0>\n",
      "2 : block1_conv1__activation__, <keras.layers.core.Activation object at 0x12f32d4d0>\n",
      "3 : block1_conv2, <keras.layers.convolutional.Conv2D object at 0x11acebfd0>\n",
      "4 : block1_conv2__activation__, <keras.layers.core.Activation object at 0x124d55d10>\n",
      "5 : block1_pool, <keras.layers.pooling.MaxPooling2D object at 0x130515c50>\n",
      "6 : block2_conv1, <keras.layers.convolutional.Conv2D object at 0x12f746b50>\n",
      "7 : block2_conv1__activation__, <keras.layers.core.Activation object at 0x13013e350>\n",
      "8 : block2_conv2, <keras.layers.convolutional.Conv2D object at 0x13019e1d0>\n",
      "9 : block2_conv2__activation__, <keras.layers.core.Activation object at 0x12f624490>\n",
      "10 : block2_pool, <keras.layers.pooling.MaxPooling2D object at 0x13050ec90>\n",
      "11 : block3_conv1, <keras.layers.convolutional.Conv2D object at 0x12387c550>\n",
      "12 : block3_conv1__activation__, <keras.layers.core.Activation object at 0x12f624250>\n",
      "13 : block3_conv2, <keras.layers.convolutional.Conv2D object at 0x1238a8b90>\n",
      "14 : block3_conv2__activation__, <keras.layers.core.Activation object at 0x12f624c90>\n",
      "15 : block3_conv3, <keras.layers.convolutional.Conv2D object at 0x12383c950>\n",
      "16 : block3_conv3__activation__, <keras.layers.core.Activation object at 0x12f624a10>\n",
      "17 : block3_pool, <keras.layers.pooling.MaxPooling2D object at 0x1238f5450>\n",
      "18 : block4_conv1, <keras.layers.convolutional.Conv2D object at 0x1239d9950>\n",
      "19 : block4_conv1__activation__, <keras.layers.core.Activation object at 0x12f674fd0>\n",
      "20 : block4_conv2, <keras.layers.convolutional.Conv2D object at 0x123a64690>\n",
      "21 : block4_conv2__activation__, <keras.layers.core.Activation object at 0x12f6a3790>\n",
      "22 : block4_conv3, <keras.layers.convolutional.Conv2D object at 0x123a76810>\n",
      "23 : block4_conv3__activation__, <keras.layers.core.Activation object at 0x12f6a32d0>\n",
      "24 : block4_pool, <keras.layers.pooling.MaxPooling2D object at 0x123a95350>\n",
      "25 : block5_conv1, <keras.layers.convolutional.Conv2D object at 0x123a58250>\n",
      "26 : block5_conv1__activation__, <keras.layers.core.Activation object at 0x12f9cc610>\n",
      "27 : block5_conv2, <keras.layers.convolutional.Conv2D object at 0x123af1650>\n",
      "28 : block5_conv2__activation__, <keras.layers.core.Activation object at 0x12f9cc290>\n",
      "29 : block5_conv3, <keras.layers.convolutional.Conv2D object at 0x123b126d0>\n",
      "30 : block5_conv3__activation__, <keras.layers.core.Activation object at 0x12f9cc1d0>\n",
      "31 : block5_pool, <keras.layers.pooling.MaxPooling2D object at 0x123b51d10>\n",
      "32 : flatten_1, <keras.layers.core.Flatten object at 0x123bcb550>\n",
      "33 : dense_1, <keras.layers.core.Dense object at 0x123beb510>\n",
      "34 : dense_1__activation__, <keras.layers.core.Activation object at 0x12f9cc3d0>\n",
      "35 : dense_2, <keras.layers.core.Dense object at 0x123bfaf10>\n",
      "36 : dense_2__activation__, <keras.layers.core.Activation object at 0x12f9cc250>\n"
     ]
    }
   ],
   "source": [
    "model_path = \"../classifier/results/model_vgg16_test.h5\"\n",
    "coreml_model = coremltools.converters.keras.convert(model_path, input_names='image', image_input_names='image', class_labels='../class_labels.txt')"
   ]
  },
  {
   "cell_type": "code",
   "execution_count": 8,
   "metadata": {
    "collapsed": true
   },
   "outputs": [],
   "source": [
    "coreml_model.save('./models/sample_model.mlmodel')"
   ]
  },
  {
   "cell_type": "code",
   "execution_count": null,
   "metadata": {
    "collapsed": true
   },
   "outputs": [],
   "source": []
  }
 ],
 "metadata": {
  "kernelspec": {
   "display_name": "Python 2",
   "language": "python",
   "name": "python2"
  },
  "language_info": {
   "codemirror_mode": {
    "name": "ipython",
    "version": 2
   },
   "file_extension": ".py",
   "mimetype": "text/x-python",
   "name": "python",
   "nbconvert_exporter": "python",
   "pygments_lexer": "ipython2",
   "version": "2.7.13"
  }
 },
 "nbformat": 4,
 "nbformat_minor": 2
}
