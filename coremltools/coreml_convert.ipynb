{
 "cells": [
  {
   "cell_type": "code",
   "execution_count": 17,
   "metadata": {
    "collapsed": true
   },
   "outputs": [],
   "source": [
    "import coremltools"
   ]
  },
  {
   "cell_type": "code",
   "execution_count": 20,
   "metadata": {},
   "outputs": [
    {
     "name": "stdout",
     "output_type": "stream",
     "text": [
      "0 : input_2, <keras.engine.topology.InputLayer object at 0x136df0450>\n",
      "1 : block1_conv1, <keras.layers.convolutional.Conv2D object at 0x12ff5fa10>\n",
      "2 : block1_conv1__activation__, <keras.layers.core.Activation object at 0x14902dd50>\n",
      "3 : block1_conv2, <keras.layers.convolutional.Conv2D object at 0x1301acf10>\n",
      "4 : block1_conv2__activation__, <keras.layers.core.Activation object at 0x14902df50>\n",
      "5 : block1_pool, <keras.layers.pooling.MaxPooling2D object at 0x13dd00250>\n",
      "6 : block2_conv1, <keras.layers.convolutional.Conv2D object at 0x136e03210>\n",
      "7 : block2_conv1__activation__, <keras.layers.core.Activation object at 0x13f3bddd0>\n",
      "8 : block2_conv2, <keras.layers.convolutional.Conv2D object at 0x136df0390>\n",
      "9 : block2_conv2__activation__, <keras.layers.core.Activation object at 0x13f3bdd50>\n",
      "10 : block2_pool, <keras.layers.pooling.MaxPooling2D object at 0x136df0510>\n",
      "11 : block3_conv1, <keras.layers.convolutional.Conv2D object at 0x1305bf390>\n",
      "12 : block3_conv1__activation__, <keras.layers.core.Activation object at 0x13e6fc650>\n",
      "13 : block3_conv2, <keras.layers.convolutional.Conv2D object at 0x1305dd650>\n",
      "14 : block3_conv2__activation__, <keras.layers.core.Activation object at 0x13e6fc610>\n",
      "15 : block3_conv3, <keras.layers.convolutional.Conv2D object at 0x1332b46d0>\n",
      "16 : block3_conv3__activation__, <keras.layers.core.Activation object at 0x148fd1ad0>\n",
      "17 : block3_pool, <keras.layers.pooling.MaxPooling2D object at 0x1332f3d10>\n",
      "18 : block4_conv1, <keras.layers.convolutional.Conv2D object at 0x136c95550>\n",
      "19 : block4_conv1__activation__, <keras.layers.core.Activation object at 0x148fd1c50>\n",
      "20 : block4_conv2, <keras.layers.convolutional.Conv2D object at 0x136cb74d0>\n",
      "21 : block4_conv2__activation__, <keras.layers.core.Activation object at 0x148fd19d0>\n",
      "22 : block4_conv3, <keras.layers.convolutional.Conv2D object at 0x136ca7ad0>\n",
      "23 : block4_conv3__activation__, <keras.layers.core.Activation object at 0x13f3fad50>\n",
      "24 : block4_pool, <keras.layers.pooling.MaxPooling2D object at 0x136cc4f10>\n",
      "25 : block5_conv1, <keras.layers.convolutional.Conv2D object at 0x136d20490>\n",
      "26 : block5_conv1__activation__, <keras.layers.core.Activation object at 0x13f390e50>\n",
      "27 : block5_conv2, <keras.layers.convolutional.Conv2D object at 0x136eec390>\n",
      "28 : block5_conv2__activation__, <keras.layers.core.Activation object at 0x1339e9e10>\n",
      "29 : block5_conv3, <keras.layers.convolutional.Conv2D object at 0x136efe750>\n",
      "30 : block5_conv3__activation__, <keras.layers.core.Activation object at 0x13e70c810>\n",
      "31 : block5_pool, <keras.layers.pooling.MaxPooling2D object at 0x136f1ef10>\n",
      "32 : flatten_2, <keras.layers.core.Flatten object at 0x136f4d4d0>\n",
      "33 : dense_3, <keras.layers.core.Dense object at 0x13704f8d0>\n",
      "34 : dense_3__activation__, <keras.layers.core.Activation object at 0x14dccbe90>\n",
      "35 : dense_4, <keras.layers.core.Dense object at 0x13703ecd0>\n",
      "36 : dense_4__activation__, <keras.layers.core.Activation object at 0x14dcf5fd0>\n"
     ]
    }
   ],
   "source": [
    "model_path = \"../classifier/results/vgg16-finetuning.h5\"\n",
    "coreml_model = coremltools.converters.keras.convert(model_path, input_names='image', image_input_names='image', class_labels='../class_labels.txt')"
   ]
  },
  {
   "cell_type": "code",
   "execution_count": 21,
   "metadata": {
    "collapsed": true
   },
   "outputs": [],
   "source": [
    "coreml_model.save('./models/fruits_classifier.mlmodel')"
   ]
  },
  {
   "cell_type": "code",
   "execution_count": null,
   "metadata": {
    "collapsed": true
   },
   "outputs": [],
   "source": []
  }
 ],
 "metadata": {
  "kernelspec": {
   "display_name": "Python 2",
   "language": "python",
   "name": "python2"
  },
  "language_info": {
   "codemirror_mode": {
    "name": "ipython",
    "version": 2
   },
   "file_extension": ".py",
   "mimetype": "text/x-python",
   "name": "python",
   "nbconvert_exporter": "python",
   "pygments_lexer": "ipython2",
   "version": "2.7.13"
  }
 },
 "nbformat": 4,
 "nbformat_minor": 2
}
