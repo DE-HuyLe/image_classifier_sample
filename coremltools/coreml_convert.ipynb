{
 "cells": [
  {
   "cell_type": "code",
   "execution_count": 2,
   "metadata": {
    "collapsed": true
   },
   "outputs": [],
   "source": [
    "import coremltools"
   ]
  },
  {
   "cell_type": "code",
   "execution_count": 3,
   "metadata": {},
   "outputs": [
    {
     "name": "stdout",
     "output_type": "stream",
     "text": [
      "0 : input_2, <keras.engine.topology.InputLayer object at 0x125d4d550>\n",
      "1 : block1_conv1, <keras.layers.convolutional.Conv2D object at 0x125d27a90>\n",
      "2 : block1_conv1__activation__, <keras.layers.core.Activation object at 0x12a7fedd0>\n",
      "3 : block1_conv2, <keras.layers.convolutional.Conv2D object at 0x125d91ad0>\n",
      "4 : block1_conv2__activation__, <keras.layers.core.Activation object at 0x12a7fed10>\n",
      "5 : block1_pool, <keras.layers.pooling.MaxPooling2D object at 0x125de2e50>\n",
      "6 : block2_conv1, <keras.layers.convolutional.Conv2D object at 0x125d818d0>\n",
      "7 : block2_conv1__activation__, <keras.layers.core.Activation object at 0x12a82afd0>\n",
      "8 : block2_conv2, <keras.layers.convolutional.Conv2D object at 0x125d4d990>\n",
      "9 : block2_conv2__activation__, <keras.layers.core.Activation object at 0x12a876e50>\n",
      "10 : block2_pool, <keras.layers.pooling.MaxPooling2D object at 0x125dd1d50>\n",
      "11 : block3_conv1, <keras.layers.convolutional.Conv2D object at 0x125e86290>\n",
      "12 : block3_conv1__activation__, <keras.layers.core.Activation object at 0x12a876bd0>\n",
      "13 : block3_conv2, <keras.layers.convolutional.Conv2D object at 0x125e3c3d0>\n",
      "14 : block3_conv2__activation__, <keras.layers.core.Activation object at 0x12a887ed0>\n",
      "15 : block3_conv3, <keras.layers.convolutional.Conv2D object at 0x125e49890>\n",
      "16 : block3_conv3__activation__, <keras.layers.core.Activation object at 0x12a887190>\n",
      "17 : block3_pool, <keras.layers.pooling.MaxPooling2D object at 0x125ea68d0>\n",
      "18 : block4_conv1, <keras.layers.convolutional.Conv2D object at 0x125f03e90>\n",
      "19 : block4_conv1__activation__, <keras.layers.core.Activation object at 0x12a887dd0>\n",
      "20 : block4_conv2, <keras.layers.convolutional.Conv2D object at 0x125f3e8d0>\n",
      "21 : block4_conv2__activation__, <keras.layers.core.Activation object at 0x12a8879d0>\n",
      "22 : block4_conv3, <keras.layers.convolutional.Conv2D object at 0x125f21ed0>\n",
      "23 : block4_conv3__activation__, <keras.layers.core.Activation object at 0x12abd2b10>\n",
      "24 : block4_pool, <keras.layers.pooling.MaxPooling2D object at 0x125f7a890>\n",
      "25 : block5_conv1, <keras.layers.convolutional.Conv2D object at 0x125fd7e50>\n",
      "26 : block5_conv1__activation__, <keras.layers.core.Activation object at 0x125d40390>\n",
      "27 : block5_conv2, <keras.layers.convolutional.Conv2D object at 0x126031fd0>\n",
      "28 : block5_conv2__activation__, <keras.layers.core.Activation object at 0x12a867c50>\n",
      "29 : block5_conv3, <keras.layers.convolutional.Conv2D object at 0x126013b50>\n",
      "30 : block5_conv3__activation__, <keras.layers.core.Activation object at 0x12a867f90>\n",
      "31 : block5_pool, <keras.layers.pooling.MaxPooling2D object at 0x12604e5d0>\n",
      "32 : flatten_2, <keras.layers.core.Flatten object at 0x12609af90>\n",
      "33 : dense_3, <keras.layers.core.Dense object at 0x1260e6850>\n",
      "34 : dense_3__activation__, <keras.layers.core.Activation object at 0x12ac4cf10>\n",
      "35 : dense_4, <keras.layers.core.Dense object at 0x1260f5bd0>\n",
      "36 : dense_4__activation__, <keras.layers.core.Activation object at 0x12b68a1d0>\n"
     ]
    }
   ],
   "source": [
    "model_path = \"../classifier/results/vgg16-finetuning.h5\"\n",
    "coreml_model = coremltools.converters.keras.convert(\n",
    "    model_path,\n",
    "    input_names='image',\n",
    "    image_input_names='image',\n",
    "    class_labels='../class_labels.txt',\n",
    "    is_bgr=True,\n",
    "    image_scale=1./255\n",
    ")"
   ]
  },
  {
   "cell_type": "code",
   "execution_count": 4,
   "metadata": {
    "collapsed": true
   },
   "outputs": [],
   "source": [
    "coreml_model.save('./models/fruits_classifier.mlmodel')"
   ]
  },
  {
   "cell_type": "code",
   "execution_count": null,
   "metadata": {
    "collapsed": true
   },
   "outputs": [],
   "source": []
  }
 ],
 "metadata": {
  "kernelspec": {
   "display_name": "Python 2",
   "language": "python",
   "name": "python2"
  },
  "language_info": {
   "codemirror_mode": {
    "name": "ipython",
    "version": 2
   },
   "file_extension": ".py",
   "mimetype": "text/x-python",
   "name": "python",
   "nbconvert_exporter": "python",
   "pygments_lexer": "ipython2",
   "version": "2.7.13"
  }
 },
 "nbformat": 4,
 "nbformat_minor": 2
}
