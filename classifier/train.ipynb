{
 "cells": [
  {
   "cell_type": "code",
   "execution_count": 80,
   "metadata": {
    "collapsed": true
   },
   "outputs": [],
   "source": [
    "import os\n",
    "from keras.applications.vgg16 import VGG16\n",
    "from keras.preprocessing.image import ImageDataGenerator\n",
    "from keras.models import Sequential, Model\n",
    "from keras.layers import Input, Activation, Flatten, Dense, Dropout\n",
    "from keras import optimizers\n",
    "import numpy as np\n",
    "import matplotlib.pyplot as plt"
   ]
  },
  {
   "cell_type": "code",
   "execution_count": 81,
   "metadata": {
    "collapsed": true
   },
   "outputs": [],
   "source": [
    "batch_size = 32\n",
    "\n",
    "classes = ['apple', 'banana', 'cherry', 'grape', 'melon', 'orange', 'strawberry']\n",
    "nb_classes = len(classes)\n",
    "\n",
    "img_rows = 100\n",
    "img_cols = 100\n",
    "channels = 3\n",
    "\n",
    "train_data_dir = './data/train'\n",
    "validation_data_dir = './data/validation'\n",
    "\n",
    "epochs = 50\n",
    "steps_per_epoch = int(train_steps / epochs)\n",
    "\n",
    "result_dir = './results'"
   ]
  },
  {
   "cell_type": "code",
   "execution_count": 82,
   "metadata": {
    "collapsed": true
   },
   "outputs": [],
   "source": [
    "if not os.path.exists(result_dir):\n",
    "    os.mkdir(result_dir)"
   ]
  },
  {
   "cell_type": "code",
   "execution_count": 83,
   "metadata": {
    "collapsed": true
   },
   "outputs": [],
   "source": [
    "input_tensor = Input(shape=(img_rows, img_cols, 3))\n",
    "vgg16 = VGG16(include_top=False, weights='imagenet', input_tensor=input_tensor)"
   ]
  },
  {
   "cell_type": "code",
   "execution_count": 84,
   "metadata": {},
   "outputs": [
    {
     "name": "stdout",
     "output_type": "stream",
     "text": [
      "_________________________________________________________________\n",
      "Layer (type)                 Output Shape              Param #   \n",
      "=================================================================\n",
      "input_5 (InputLayer)         (None, 100, 100, 3)       0         \n",
      "_________________________________________________________________\n",
      "block1_conv1 (Conv2D)        (None, 100, 100, 64)      1792      \n",
      "_________________________________________________________________\n",
      "block1_conv2 (Conv2D)        (None, 100, 100, 64)      36928     \n",
      "_________________________________________________________________\n",
      "block1_pool (MaxPooling2D)   (None, 50, 50, 64)        0         \n",
      "_________________________________________________________________\n",
      "block2_conv1 (Conv2D)        (None, 50, 50, 128)       73856     \n",
      "_________________________________________________________________\n",
      "block2_conv2 (Conv2D)        (None, 50, 50, 128)       147584    \n",
      "_________________________________________________________________\n",
      "block2_pool (MaxPooling2D)   (None, 25, 25, 128)       0         \n",
      "_________________________________________________________________\n",
      "block3_conv1 (Conv2D)        (None, 25, 25, 256)       295168    \n",
      "_________________________________________________________________\n",
      "block3_conv2 (Conv2D)        (None, 25, 25, 256)       590080    \n",
      "_________________________________________________________________\n",
      "block3_conv3 (Conv2D)        (None, 25, 25, 256)       590080    \n",
      "_________________________________________________________________\n",
      "block3_pool (MaxPooling2D)   (None, 12, 12, 256)       0         \n",
      "_________________________________________________________________\n",
      "block4_conv1 (Conv2D)        (None, 12, 12, 512)       1180160   \n",
      "_________________________________________________________________\n",
      "block4_conv2 (Conv2D)        (None, 12, 12, 512)       2359808   \n",
      "_________________________________________________________________\n",
      "block4_conv3 (Conv2D)        (None, 12, 12, 512)       2359808   \n",
      "_________________________________________________________________\n",
      "block4_pool (MaxPooling2D)   (None, 6, 6, 512)         0         \n",
      "_________________________________________________________________\n",
      "block5_conv1 (Conv2D)        (None, 6, 6, 512)         2359808   \n",
      "_________________________________________________________________\n",
      "block5_conv2 (Conv2D)        (None, 6, 6, 512)         2359808   \n",
      "_________________________________________________________________\n",
      "block5_conv3 (Conv2D)        (None, 6, 6, 512)         2359808   \n",
      "_________________________________________________________________\n",
      "block5_pool (MaxPooling2D)   (None, 3, 3, 512)         0         \n",
      "=================================================================\n",
      "Total params: 14,714,688\n",
      "Trainable params: 14,714,688\n",
      "Non-trainable params: 0\n",
      "_________________________________________________________________\n"
     ]
    }
   ],
   "source": [
    "vgg16.summary()"
   ]
  },
  {
   "cell_type": "code",
   "execution_count": 85,
   "metadata": {
    "collapsed": true
   },
   "outputs": [],
   "source": [
    "top_model = Sequential()\n",
    "top_model.add(Flatten(input_shape=vgg16.output_shape[1:]))\n",
    "top_model.add(Dense(256, activation='relu'))\n",
    "top_model.add(Dropout(0.5))\n",
    "top_model.add(Dense(nb_classes, activation='softmax'))"
   ]
  },
  {
   "cell_type": "code",
   "execution_count": 86,
   "metadata": {},
   "outputs": [
    {
     "name": "stdout",
     "output_type": "stream",
     "text": [
      "_________________________________________________________________\n",
      "Layer (type)                 Output Shape              Param #   \n",
      "=================================================================\n",
      "flatten_4 (Flatten)          (None, 4608)              0         \n",
      "_________________________________________________________________\n",
      "dense_7 (Dense)              (None, 256)               1179904   \n",
      "_________________________________________________________________\n",
      "dropout_4 (Dropout)          (None, 256)               0         \n",
      "_________________________________________________________________\n",
      "dense_8 (Dense)              (None, 7)                 1799      \n",
      "=================================================================\n",
      "Total params: 1,181,703\n",
      "Trainable params: 1,181,703\n",
      "Non-trainable params: 0\n",
      "_________________________________________________________________\n"
     ]
    }
   ],
   "source": [
    "top_model.summary()"
   ]
  },
  {
   "cell_type": "code",
   "execution_count": 87,
   "metadata": {},
   "outputs": [
    {
     "name": "stdout",
     "output_type": "stream",
     "text": [
      "_________________________________________________________________\n",
      "Layer (type)                 Output Shape              Param #   \n",
      "=================================================================\n",
      "input_5 (InputLayer)         (None, 100, 100, 3)       0         \n",
      "_________________________________________________________________\n",
      "block1_conv1 (Conv2D)        (None, 100, 100, 64)      1792      \n",
      "_________________________________________________________________\n",
      "block1_conv2 (Conv2D)        (None, 100, 100, 64)      36928     \n",
      "_________________________________________________________________\n",
      "block1_pool (MaxPooling2D)   (None, 50, 50, 64)        0         \n",
      "_________________________________________________________________\n",
      "block2_conv1 (Conv2D)        (None, 50, 50, 128)       73856     \n",
      "_________________________________________________________________\n",
      "block2_conv2 (Conv2D)        (None, 50, 50, 128)       147584    \n",
      "_________________________________________________________________\n",
      "block2_pool (MaxPooling2D)   (None, 25, 25, 128)       0         \n",
      "_________________________________________________________________\n",
      "block3_conv1 (Conv2D)        (None, 25, 25, 256)       295168    \n",
      "_________________________________________________________________\n",
      "block3_conv2 (Conv2D)        (None, 25, 25, 256)       590080    \n",
      "_________________________________________________________________\n",
      "block3_conv3 (Conv2D)        (None, 25, 25, 256)       590080    \n",
      "_________________________________________________________________\n",
      "block3_pool (MaxPooling2D)   (None, 12, 12, 256)       0         \n",
      "_________________________________________________________________\n",
      "block4_conv1 (Conv2D)        (None, 12, 12, 512)       1180160   \n",
      "_________________________________________________________________\n",
      "block4_conv2 (Conv2D)        (None, 12, 12, 512)       2359808   \n",
      "_________________________________________________________________\n",
      "block4_conv3 (Conv2D)        (None, 12, 12, 512)       2359808   \n",
      "_________________________________________________________________\n",
      "block4_pool (MaxPooling2D)   (None, 6, 6, 512)         0         \n",
      "_________________________________________________________________\n",
      "block5_conv1 (Conv2D)        (None, 6, 6, 512)         2359808   \n",
      "_________________________________________________________________\n",
      "block5_conv2 (Conv2D)        (None, 6, 6, 512)         2359808   \n",
      "_________________________________________________________________\n",
      "block5_conv3 (Conv2D)        (None, 6, 6, 512)         2359808   \n",
      "_________________________________________________________________\n",
      "block5_pool (MaxPooling2D)   (None, 3, 3, 512)         0         \n",
      "_________________________________________________________________\n",
      "sequential_4 (Sequential)    (None, 7)                 1181703   \n",
      "=================================================================\n",
      "Total params: 15,896,391\n",
      "Trainable params: 15,896,391\n",
      "Non-trainable params: 0\n",
      "_________________________________________________________________\n"
     ]
    }
   ],
   "source": [
    "model = Model(inputs=vgg16.input, outputs=top_model(vgg16.output))\n",
    "model.summary()"
   ]
  },
  {
   "cell_type": "code",
   "execution_count": 88,
   "metadata": {},
   "outputs": [
    {
     "data": {
      "text/plain": [
       "[<keras.engine.topology.InputLayer at 0x12737b160>,\n",
       " <keras.layers.convolutional.Conv2D at 0x12737b0f0>,\n",
       " <keras.layers.convolutional.Conv2D at 0x129767ef0>,\n",
       " <keras.layers.pooling.MaxPooling2D at 0x12737be10>,\n",
       " <keras.layers.convolutional.Conv2D at 0x12977f2b0>,\n",
       " <keras.layers.convolutional.Conv2D at 0x12734a048>,\n",
       " <keras.layers.pooling.MaxPooling2D at 0x129784f60>,\n",
       " <keras.layers.convolutional.Conv2D at 0x129760208>,\n",
       " <keras.layers.convolutional.Conv2D at 0x1297ad780>,\n",
       " <keras.layers.convolutional.Conv2D at 0x127514748>,\n",
       " <keras.layers.pooling.MaxPooling2D at 0x12750c208>,\n",
       " <keras.layers.convolutional.Conv2D at 0x127325ef0>,\n",
       " <keras.layers.convolutional.Conv2D at 0x127325a58>,\n",
       " <keras.layers.convolutional.Conv2D at 0x1272897f0>,\n",
       " <keras.layers.pooling.MaxPooling2D at 0x127531940>]"
      ]
     },
     "execution_count": 88,
     "metadata": {},
     "output_type": "execute_result"
    }
   ],
   "source": [
    "model.layers[:15]"
   ]
  },
  {
   "cell_type": "code",
   "execution_count": 89,
   "metadata": {
    "collapsed": true
   },
   "outputs": [],
   "source": [
    "# 最後のconv層の直前までの層をfreeze\n",
    "for layer in model.layers[:15]:\n",
    "    layer.trainable = False"
   ]
  },
  {
   "cell_type": "code",
   "execution_count": 90,
   "metadata": {
    "collapsed": true
   },
   "outputs": [],
   "source": [
    "model.compile(loss='categorical_crossentropy',\n",
    "              optimizer=optimizers.SGD(lr=1e-4, momentum=0.9),\n",
    "              metrics=['accuracy'])"
   ]
  },
  {
   "cell_type": "code",
   "execution_count": 91,
   "metadata": {
    "collapsed": true
   },
   "outputs": [],
   "source": [
    "train_datagen = ImageDataGenerator(\n",
    "    rescale=1.0 / 255,\n",
    "    shear_range=0.2,# シアー変換\n",
    "    zoom_range=0.2, #  ランダムに　ズーム\n",
    "    rotation_range=20, # ランダムな回転回転角度\n",
    "    horizontal_flip=True, # 水平方向に反転\n",
    "    vertical_flip=True # 垂直方向に反転\n",
    ")"
   ]
  },
  {
   "cell_type": "code",
   "execution_count": 92,
   "metadata": {
    "collapsed": true
   },
   "outputs": [],
   "source": [
    "test_datagen = ImageDataGenerator(rescale=1.0 / 255)"
   ]
  },
  {
   "cell_type": "code",
   "execution_count": 93,
   "metadata": {},
   "outputs": [
    {
     "name": "stdout",
     "output_type": "stream",
     "text": [
      "Found 4565 images belonging to 7 classes.\n",
      "Found 697 images belonging to 7 classes.\n"
     ]
    }
   ],
   "source": [
    "train_generator = train_datagen.flow_from_directory(\n",
    "    train_data_dir,\n",
    "    target_size=(img_rows, img_cols),\n",
    "    color_mode='rgb',\n",
    "    classes=classes,\n",
    "    class_mode='categorical',\n",
    "    batch_size=batch_size,\n",
    "    shuffle=True)\n",
    "\n",
    "validation_generator = test_datagen.flow_from_directory(\n",
    "    validation_data_dir,\n",
    "    target_size=(img_rows, img_cols),\n",
    "    color_mode='rgb',\n",
    "    classes=classes,\n",
    "    class_mode='categorical',\n",
    "    batch_size=batch_size,\n",
    "    shuffle=True)"
   ]
  },
  {
   "cell_type": "code",
   "execution_count": null,
   "metadata": {},
   "outputs": [
    {
     "name": "stdout",
     "output_type": "stream",
     "text": [
      "Epoch 1/50\n",
      "142/142 [==============================] - 4139s - loss: 1.6312 - acc: 0.4029 - val_loss: 1.6539 - val_acc: 0.4062\n",
      "Epoch 2/50\n",
      "142/142 [==============================] - 803s - loss: 1.3352 - acc: 0.5475 - val_loss: 1.3881 - val_acc: 0.5233\n",
      "Epoch 3/50\n",
      "142/142 [==============================] - 965s - loss: 1.1651 - acc: 0.6069 - val_loss: 1.2037 - val_acc: 0.5759\n",
      "Epoch 4/50\n",
      "142/142 [==============================] - 1094s - loss: 1.0509 - acc: 0.6493 - val_loss: 1.1579 - val_acc: 0.6090\n",
      "Epoch 5/50\n",
      "142/142 [==============================] - 942s - loss: 0.9553 - acc: 0.6905 - val_loss: 1.0413 - val_acc: 0.6271\n",
      "Epoch 6/50\n",
      "142/142 [==============================] - 918s - loss: 0.8913 - acc: 0.7051 - val_loss: 1.0151 - val_acc: 0.6391\n",
      "Epoch 7/50\n",
      "142/142 [==============================] - 924s - loss: 0.8371 - acc: 0.7240 - val_loss: 1.0143 - val_acc: 0.6376\n",
      "Epoch 8/50\n",
      "136/142 [===========================>..] - ETA: 35s - loss: 0.7621 - acc: 0.7520"
     ]
    }
   ],
   "source": [
    "history = model.fit_generator(\n",
    "    train_generator,\n",
    "    steps_per_epoch=train_generator.samples//batch_size,\n",
    "    epochs=epochs,\n",
    "    validation_data=validation_generator,\n",
    "    validation_steps=validation_generator.samples//batch_size\n",
    ")"
   ]
  },
  {
   "cell_type": "code",
   "execution_count": 60,
   "metadata": {
    "scrolled": false
   },
   "outputs": [
    {
     "data": {
      "text/plain": [
       "{'acc': [0.33770161290322581,\n",
       "  0.4692540322580645,\n",
       "  0.54181449587310082,\n",
       "  0.58114919354838712,\n",
       "  0.59655347217235,\n",
       "  0.64516129032258063,\n",
       "  0.67055245836676525,\n",
       "  0.67439516129032262,\n",
       "  0.69657258064516125,\n",
       "  0.70400405482960671,\n",
       "  0.73891129032258063,\n",
       "  0.75012671077426651,\n",
       "  0.76008064516129037,\n",
       "  0.74708565660255299,\n",
       "  0.765625,\n",
       "  0.75,\n",
       "  0.77749619877284026,\n",
       "  0.77520161290322576,\n",
       "  0.78205778009083082,\n",
       "  0.78377016129032262,\n",
       "  0.79118094287786278,\n",
       "  0.79989919354838712,\n",
       "  0.796875,\n",
       "  0.81398884958865614,\n",
       "  0.80645161290322576,\n",
       "  0.83020780540273931,\n",
       "  0.81502016129032262,\n",
       "  0.82970096321197795,\n",
       "  0.81905241935483875,\n",
       "  0.82412569693847171,\n",
       "  0.83165322580645162,\n",
       "  0.83820564516129037,\n",
       "  0.82919412077953536,\n",
       "  0.84677419354838712,\n",
       "  0.85453623938065038,\n",
       "  0.85635080645161288,\n",
       "  0.83933096815956099,\n",
       "  0.858366935483871,\n",
       "  0.84828629032258063,\n",
       "  0.85453623941086054,\n",
       "  0.84778225806451613,\n",
       "  0.85250886983214091,\n",
       "  0.85282258064516125,\n",
       "  0.86365940207705183,\n",
       "  0.86643145161290325,\n",
       "  0.85735887096774188,\n",
       "  0.86365940204684166,\n",
       "  0.87348790322580649,\n",
       "  0.86670045615813485,\n",
       "  0.87197580645161288],\n",
       " 'loss': [1.8265885518443199,\n",
       "  1.4881586855457676,\n",
       "  1.3415506875158505,\n",
       "  1.2371483906622855,\n",
       "  1.1915191521937027,\n",
       "  1.0965856698251539,\n",
       "  1.0153256939621185,\n",
       "  0.96774298337198073,\n",
       "  0.91696701126713909,\n",
       "  0.88194645952586281,\n",
       "  0.81834532608908994,\n",
       "  0.78059672538967106,\n",
       "  0.76011300038906837,\n",
       "  0.77571855519425725,\n",
       "  0.71169290186897405,\n",
       "  0.72885501096325533,\n",
       "  0.69049817622765275,\n",
       "  0.68071690682441954,\n",
       "  0.63390280083539341,\n",
       "  0.64445958118284907,\n",
       "  0.6158139522282291,\n",
       "  0.59359473518786887,\n",
       "  0.61827183683072362,\n",
       "  0.56554595021142973,\n",
       "  0.5965297597069894,\n",
       "  0.53232551575673759,\n",
       "  0.54283600757198947,\n",
       "  0.51486065036683781,\n",
       "  0.53875127002116174,\n",
       "  0.51490126408965109,\n",
       "  0.5115617191599261,\n",
       "  0.50686990758103712,\n",
       "  0.48525592988357891,\n",
       "  0.46701668178842914,\n",
       "  0.46822607360149604,\n",
       "  0.44451879878197947,\n",
       "  0.46687510633794899,\n",
       "  0.45596711385634636,\n",
       "  0.44065144585986293,\n",
       "  0.41701765224768073,\n",
       "  0.45687329444673752,\n",
       "  0.42936530139805157,\n",
       "  0.42799710386222406,\n",
       "  0.40330166543007379,\n",
       "  0.38777118656904469,\n",
       "  0.43169370005207675,\n",
       "  0.3931003012182262,\n",
       "  0.37423262937415031,\n",
       "  0.39842382770124207,\n",
       "  0.37003723267586003],\n",
       " 'val_acc': [0.32408575045619004,\n",
       "  0.41735275477605049,\n",
       "  0.46532156347551984,\n",
       "  0.49495586395864982,\n",
       "  0.53134895460072618,\n",
       "  0.57187894148303464,\n",
       "  0.58196721292684539,\n",
       "  0.62358133643301861,\n",
       "  0.59974667535619386,\n",
       "  0.64249684688873576,\n",
       "  0.62484237115740926,\n",
       "  0.61223202988899972,\n",
       "  0.65104496501683429,\n",
       "  0.63745271137352999,\n",
       "  0.6582597732393618,\n",
       "  0.66181127375028348,\n",
       "  0.68221942075113629,\n",
       "  0.68095838583883694,\n",
       "  0.66519546110422589,\n",
       "  0.67701076691176332,\n",
       "  0.70239596484137368,\n",
       "  0.66960907899416411,\n",
       "  0.68726355600326994,\n",
       "  0.69284357206967906,\n",
       "  0.69167717490791525,\n",
       "  0.69293820989537813,\n",
       "  0.70360987974617439,\n",
       "  0.70491803342577486,\n",
       "  0.72131147571049004,\n",
       "  0.71185372061416752,\n",
       "  0.7105763139341208,\n",
       "  0.71311475387287016,\n",
       "  0.73139974775560868,\n",
       "  0.73581336692332622,\n",
       "  0.72894236934268075,\n",
       "  0.73139974707913724,\n",
       "  0.73581336707365319,\n",
       "  0.74857504730967495,\n",
       "  0.72131147597356227,\n",
       "  0.73770491833344087,\n",
       "  0.72509457751601225,\n",
       "  0.7644078533735511,\n",
       "  0.7377049179952051,\n",
       "  0.75283732724670804,\n",
       "  0.73770491773213298,\n",
       "  0.75744141952533972,\n",
       "  0.75157629173310081,\n",
       "  0.7534678438572685,\n",
       "  0.73654211620653331,\n",
       "  0.74590163923151709],\n",
       " 'val_loss': [1.811821610599869,\n",
       "  1.6425509288991984,\n",
       "  1.5082527853802203,\n",
       "  1.4231148459120626,\n",
       "  1.3013309274314702,\n",
       "  1.2344615828494858,\n",
       "  1.1844199040498289,\n",
       "  1.0817933488839211,\n",
       "  1.0842365317136295,\n",
       "  0.97753242522590844,\n",
       "  1.0103754340324547,\n",
       "  1.1092114256504655,\n",
       "  0.92634808009300451,\n",
       "  0.94397024030493004,\n",
       "  0.91369071854619033,\n",
       "  0.89865585544427939,\n",
       "  0.8414633467248529,\n",
       "  0.86020916974709882,\n",
       "  0.87077822041090625,\n",
       "  0.84433868242412369,\n",
       "  0.75679811451955226,\n",
       "  0.8694133110635669,\n",
       "  0.82238961153042422,\n",
       "  0.77803442990047555,\n",
       "  0.80252865317640509,\n",
       "  0.81466266054373526,\n",
       "  0.78866752085616276,\n",
       "  0.76255758268310025,\n",
       "  0.75691264683632054,\n",
       "  0.75453322513256815,\n",
       "  0.74863971319660649,\n",
       "  0.70024422865271718,\n",
       "  0.73316412205804338,\n",
       "  0.6870143592056982,\n",
       "  0.68163628482682714,\n",
       "  0.70713815882257069,\n",
       "  0.7076838075701255,\n",
       "  0.66953283555904775,\n",
       "  0.68329597049372792,\n",
       "  0.64647001067521748,\n",
       "  0.72541413068170058,\n",
       "  0.62827184501896183,\n",
       "  0.68888215181355517,\n",
       "  0.63220926063208083,\n",
       "  0.72112654925595321,\n",
       "  0.63960899715562503,\n",
       "  0.64673957224902412,\n",
       "  0.66106093170363245,\n",
       "  0.69861228187451108,\n",
       "  0.66040218770879811]}"
      ]
     },
     "execution_count": 60,
     "metadata": {},
     "output_type": "execute_result"
    }
   ],
   "source": [
    "history.history"
   ]
  },
  {
   "cell_type": "code",
   "execution_count": 59,
   "metadata": {},
   "outputs": [
    {
     "data": {
      "image/png": "[encoded data removed]",
      "text/plain": [
       "<matplotlib.figure.Figure at 0x124704b38>"
      ]
     },
     "metadata": {},
     "output_type": "display_data"
    }
   ],
   "source": [
    "# plot results\n",
    "loss = history.history['loss']\n",
    "val_loss = history.history['val_loss']\n",
    "\n",
    "plt.plot(range(epochs), loss, marker='.', label='loss')\n",
    "plt.plot(range(epochs), val_loss, marker='.', label='val_loss')\n",
    "plt.legend(loc='best')\n",
    "plt.grid()\n",
    "plt.xlabel('epoch')\n",
    "plt.ylabel('acc')\n",
    "plt.show()"
   ]
  },
  {
   "cell_type": "code",
   "execution_count": 61,
   "metadata": {},
   "outputs": [
    {
     "data": {
      "image/png": "[encoded data removed]",
      "text/plain": [
       "<matplotlib.figure.Figure at 0x12730b358>"
      ]
     },
     "metadata": {},
     "output_type": "display_data"
    }
   ],
   "source": [
    "# plot results\n",
    "loss = history.history['acc']\n",
    "val_loss = history.history['val_acc']\n",
    "\n",
    "plt.plot(range(epochs), loss, marker='.', label='acc')\n",
    "plt.plot(range(epochs), val_loss, marker='.', label='val_acc')\n",
    "plt.legend(loc='best')\n",
    "plt.grid()\n",
    "plt.xlabel('epoch')\n",
    "plt.ylabel('acc')\n",
    "plt.show()"
   ]
  },
  {
   "cell_type": "code",
   "execution_count": 64,
   "metadata": {
    "collapsed": true
   },
   "outputs": [],
   "source": [
    "import pickle"
   ]
  },
  {
   "cell_type": "code",
   "execution_count": 65,
   "metadata": {
    "collapsed": true
   },
   "outputs": [],
   "source": [
    "with open('./results/history1.pkl', mode='wb') as f:\n",
    "    pickle.dump('Hello, World!', f)"
   ]
  },
  {
   "cell_type": "code",
   "execution_count": null,
   "metadata": {
    "collapsed": true
   },
   "outputs": [],
   "source": []
  }
 ],
 "metadata": {
  "kernelspec": {
   "display_name": "Python 3",
   "language": "python",
   "name": "python3"
  }
 },
 "nbformat": 4,
 "nbformat_minor": 2
}
