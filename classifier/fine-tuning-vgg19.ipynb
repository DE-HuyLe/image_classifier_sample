{
 "cells": [
  {
   "cell_type": "code",
   "execution_count": 1,
   "metadata": {
    "collapsed": true
   },
   "outputs": [],
   "source": [
    "import os\n",
    "from keras.applications.vgg19 import VGG19\n",
    "from keras.preprocessing.image import ImageDataGenerator\n",
    "from keras.preprocessing import image\n",
    "from keras.models import Sequential, Model\n",
    "from keras.layers import Input, Activation, Flatten, Dense, Dropout\n",
    "from keras import optimizers\n",
    "import numpy as np\n",
    "import matplotlib.pyplot as plt"
   ]
  },
  {
   "cell_type": "code",
   "execution_count": 2,
   "metadata": {
    "collapsed": true
   },
   "outputs": [],
   "source": [
    "batch_size = 32\n",
    "\n",
    "classes = ['apple', 'banana', 'cherry', 'grape', 'melon', 'orange', 'strawberry']\n",
    "nb_classes = len(classes)\n",
    "\n",
    "img_rows = 100\n",
    "img_cols = 100\n",
    "channels = 3\n",
    "\n",
    "train_data_dir = './data/train'\n",
    "validation_data_dir = './data/validation'\n",
    "\n",
    "epochs = 50\n",
    "\n",
    "result_dir = './results'"
   ]
  },
  {
   "cell_type": "code",
   "execution_count": 3,
   "metadata": {
    "collapsed": true
   },
   "outputs": [],
   "source": [
    "if not os.path.exists(result_dir):\n",
    "    os.mkdir(result_dir)"
   ]
  },
  {
   "cell_type": "code",
   "execution_count": 4,
   "metadata": {},
   "outputs": [
    {
     "name": "stdout",
     "output_type": "stream",
     "text": [
      "Downloading data from https://github.com/fchollet/deep-learning-models/releases/download/v0.1/vgg19_weights_tf_dim_ordering_tf_kernels_notop.h5\n",
      "80134144/80134624 [============================>.] - ETA: 0s"
     ]
    }
   ],
   "source": [
    "input_tensor = Input(shape=(img_rows, img_cols, 3))\n",
    "vgg19 = VGG19(include_top=False, weights='imagenet', input_tensor=input_tensor)"
   ]
  },
  {
   "cell_type": "code",
   "execution_count": 5,
   "metadata": {},
   "outputs": [
    {
     "name": "stdout",
     "output_type": "stream",
     "text": [
      "_________________________________________________________________\n",
      "Layer (type)                 Output Shape              Param #   \n",
      "=================================================================\n",
      "input_1 (InputLayer)         (None, 100, 100, 3)       0         \n",
      "_________________________________________________________________\n",
      "block1_conv1 (Conv2D)        (None, 100, 100, 64)      1792      \n",
      "_________________________________________________________________\n",
      "block1_conv2 (Conv2D)        (None, 100, 100, 64)      36928     \n",
      "_________________________________________________________________\n",
      "block1_pool (MaxPooling2D)   (None, 50, 50, 64)        0         \n",
      "_________________________________________________________________\n",
      "block2_conv1 (Conv2D)        (None, 50, 50, 128)       73856     \n",
      "_________________________________________________________________\n",
      "block2_conv2 (Conv2D)        (None, 50, 50, 128)       147584    \n",
      "_________________________________________________________________\n",
      "block2_pool (MaxPooling2D)   (None, 25, 25, 128)       0         \n",
      "_________________________________________________________________\n",
      "block3_conv1 (Conv2D)        (None, 25, 25, 256)       295168    \n",
      "_________________________________________________________________\n",
      "block3_conv2 (Conv2D)        (None, 25, 25, 256)       590080    \n",
      "_________________________________________________________________\n",
      "block3_conv3 (Conv2D)        (None, 25, 25, 256)       590080    \n",
      "_________________________________________________________________\n",
      "block3_conv4 (Conv2D)        (None, 25, 25, 256)       590080    \n",
      "_________________________________________________________________\n",
      "block3_pool (MaxPooling2D)   (None, 12, 12, 256)       0         \n",
      "_________________________________________________________________\n",
      "block4_conv1 (Conv2D)        (None, 12, 12, 512)       1180160   \n",
      "_________________________________________________________________\n",
      "block4_conv2 (Conv2D)        (None, 12, 12, 512)       2359808   \n",
      "_________________________________________________________________\n",
      "block4_conv3 (Conv2D)        (None, 12, 12, 512)       2359808   \n",
      "_________________________________________________________________\n",
      "block4_conv4 (Conv2D)        (None, 12, 12, 512)       2359808   \n",
      "_________________________________________________________________\n",
      "block4_pool (MaxPooling2D)   (None, 6, 6, 512)         0         \n",
      "_________________________________________________________________\n",
      "block5_conv1 (Conv2D)        (None, 6, 6, 512)         2359808   \n",
      "_________________________________________________________________\n",
      "block5_conv2 (Conv2D)        (None, 6, 6, 512)         2359808   \n",
      "_________________________________________________________________\n",
      "block5_conv3 (Conv2D)        (None, 6, 6, 512)         2359808   \n",
      "_________________________________________________________________\n",
      "block5_conv4 (Conv2D)        (None, 6, 6, 512)         2359808   \n",
      "_________________________________________________________________\n",
      "block5_pool (MaxPooling2D)   (None, 3, 3, 512)         0         \n",
      "=================================================================\n",
      "Total params: 20,024,384\n",
      "Trainable params: 20,024,384\n",
      "Non-trainable params: 0\n",
      "_________________________________________________________________\n"
     ]
    }
   ],
   "source": [
    "vgg19.summary()"
   ]
  },
  {
   "cell_type": "code",
   "execution_count": 7,
   "metadata": {},
   "outputs": [],
   "source": [
    "top_model = Sequential()\n",
    "top_model.add(Flatten(input_shape=vgg19.output_shape[1:]))\n",
    "top_model.add(Dense(256, activation='relu'))\n",
    "top_model.add(Dropout(0.5))\n",
    "top_model.add(Dense(nb_classes, activation='softmax'))"
   ]
  },
  {
   "cell_type": "code",
   "execution_count": 8,
   "metadata": {},
   "outputs": [
    {
     "name": "stdout",
     "output_type": "stream",
     "text": [
      "_________________________________________________________________\n",
      "Layer (type)                 Output Shape              Param #   \n",
      "=================================================================\n",
      "input_1 (InputLayer)         (None, 100, 100, 3)       0         \n",
      "_________________________________________________________________\n",
      "block1_conv1 (Conv2D)        (None, 100, 100, 64)      1792      \n",
      "_________________________________________________________________\n",
      "block1_conv2 (Conv2D)        (None, 100, 100, 64)      36928     \n",
      "_________________________________________________________________\n",
      "block1_pool (MaxPooling2D)   (None, 50, 50, 64)        0         \n",
      "_________________________________________________________________\n",
      "block2_conv1 (Conv2D)        (None, 50, 50, 128)       73856     \n",
      "_________________________________________________________________\n",
      "block2_conv2 (Conv2D)        (None, 50, 50, 128)       147584    \n",
      "_________________________________________________________________\n",
      "block2_pool (MaxPooling2D)   (None, 25, 25, 128)       0         \n",
      "_________________________________________________________________\n",
      "block3_conv1 (Conv2D)        (None, 25, 25, 256)       295168    \n",
      "_________________________________________________________________\n",
      "block3_conv2 (Conv2D)        (None, 25, 25, 256)       590080    \n",
      "_________________________________________________________________\n",
      "block3_conv3 (Conv2D)        (None, 25, 25, 256)       590080    \n",
      "_________________________________________________________________\n",
      "block3_conv4 (Conv2D)        (None, 25, 25, 256)       590080    \n",
      "_________________________________________________________________\n",
      "block3_pool (MaxPooling2D)   (None, 12, 12, 256)       0         \n",
      "_________________________________________________________________\n",
      "block4_conv1 (Conv2D)        (None, 12, 12, 512)       1180160   \n",
      "_________________________________________________________________\n",
      "block4_conv2 (Conv2D)        (None, 12, 12, 512)       2359808   \n",
      "_________________________________________________________________\n",
      "block4_conv3 (Conv2D)        (None, 12, 12, 512)       2359808   \n",
      "_________________________________________________________________\n",
      "block4_conv4 (Conv2D)        (None, 12, 12, 512)       2359808   \n",
      "_________________________________________________________________\n",
      "block4_pool (MaxPooling2D)   (None, 6, 6, 512)         0         \n",
      "_________________________________________________________________\n",
      "block5_conv1 (Conv2D)        (None, 6, 6, 512)         2359808   \n",
      "_________________________________________________________________\n",
      "block5_conv2 (Conv2D)        (None, 6, 6, 512)         2359808   \n",
      "_________________________________________________________________\n",
      "block5_conv3 (Conv2D)        (None, 6, 6, 512)         2359808   \n",
      "_________________________________________________________________\n",
      "block5_conv4 (Conv2D)        (None, 6, 6, 512)         2359808   \n",
      "_________________________________________________________________\n",
      "block5_pool (MaxPooling2D)   (None, 3, 3, 512)         0         \n",
      "_________________________________________________________________\n",
      "sequential_2 (Sequential)    (None, 7)                 1181703   \n",
      "=================================================================\n",
      "Total params: 21,206,087\n",
      "Trainable params: 21,206,087\n",
      "Non-trainable params: 0\n",
      "_________________________________________________________________\n"
     ]
    }
   ],
   "source": [
    "model = Model(inputs=vgg19.input, outputs=top_model(vgg19.output))\n",
    "model.summary()"
   ]
  },
  {
   "cell_type": "code",
   "execution_count": 10,
   "metadata": {},
   "outputs": [
    {
     "data": {
      "text/plain": [
       "[<keras.engine.topology.InputLayer at 0x120ae84a8>,\n",
       " <keras.layers.convolutional.Conv2D at 0x11968d390>,\n",
       " <keras.layers.convolutional.Conv2D at 0x120ae8780>,\n",
       " <keras.layers.pooling.MaxPooling2D at 0x11fcdf710>,\n",
       " <keras.layers.convolutional.Conv2D at 0x120ba6c88>,\n",
       " <keras.layers.convolutional.Conv2D at 0x120bc3cc0>,\n",
       " <keras.layers.pooling.MaxPooling2D at 0x120bfc748>,\n",
       " <keras.layers.convolutional.Conv2D at 0x120c190b8>,\n",
       " <keras.layers.convolutional.Conv2D at 0x120c374a8>,\n",
       " <keras.layers.convolutional.Conv2D at 0x120c46860>,\n",
       " <keras.layers.convolutional.Conv2D at 0x120caf5f8>,\n",
       " <keras.layers.pooling.MaxPooling2D at 0x120cf7b70>,\n",
       " <keras.layers.convolutional.Conv2D at 0x120d342e8>,\n",
       " <keras.layers.convolutional.Conv2D at 0x120d340f0>,\n",
       " <keras.layers.convolutional.Conv2D at 0x120d6fa58>,\n",
       " <keras.layers.convolutional.Conv2D at 0x120dabe80>,\n",
       " <keras.layers.pooling.MaxPooling2D at 0x120d8d128>]"
      ]
     },
     "execution_count": 10,
     "metadata": {},
     "output_type": "execute_result"
    }
   ],
   "source": [
    "model.layers[:17]"
   ]
  },
  {
   "cell_type": "code",
   "execution_count": 11,
   "metadata": {
    "collapsed": true
   },
   "outputs": [],
   "source": [
    "# 最後のconv層の直前までの層をfreeze\n",
    "for layer in model.layers[:17]:\n",
    "    layer.trainable = False"
   ]
  },
  {
   "cell_type": "code",
   "execution_count": 12,
   "metadata": {
    "collapsed": true
   },
   "outputs": [],
   "source": [
    "model.compile(loss='categorical_crossentropy',\n",
    "              optimizer=optimizers.SGD(lr=1e-4, momentum=0.9),\n",
    "              metrics=['accuracy'])"
   ]
  },
  {
   "cell_type": "code",
   "execution_count": 13,
   "metadata": {
    "collapsed": true
   },
   "outputs": [],
   "source": [
    "train_datagen = ImageDataGenerator(\n",
    "    rescale=1.0 / 255,\n",
    "    shear_range=0.2,# シアー変換\n",
    "    zoom_range=0.2, #  ランダムに　ズーム\n",
    "    rotation_range=20, # ランダムな回転回転角度\n",
    "    horizontal_flip=True, # 水平方向に反転\n",
    "    vertical_flip=True # 垂直方向に反転\n",
    ")"
   ]
  },
  {
   "cell_type": "code",
   "execution_count": 14,
   "metadata": {
    "collapsed": true
   },
   "outputs": [],
   "source": [
    "test_datagen = ImageDataGenerator(rescale=1.0 / 255)"
   ]
  },
  {
   "cell_type": "code",
   "execution_count": 15,
   "metadata": {},
   "outputs": [
    {
     "name": "stdout",
     "output_type": "stream",
     "text": [
      "Found 4565 images belonging to 7 classes.\n",
      "Found 697 images belonging to 7 classes.\n"
     ]
    }
   ],
   "source": [
    "train_generator = train_datagen.flow_from_directory(\n",
    "    train_data_dir,\n",
    "    target_size=(img_rows, img_cols),\n",
    "    color_mode='rgb',\n",
    "    classes=classes,\n",
    "    class_mode='categorical',\n",
    "    batch_size=batch_size,\n",
    "    shuffle=True)\n",
    "\n",
    "validation_generator = test_datagen.flow_from_directory(\n",
    "    validation_data_dir,\n",
    "    target_size=(img_rows, img_cols),\n",
    "    color_mode='rgb',\n",
    "    classes=classes,\n",
    "    class_mode='categorical',\n",
    "    batch_size=batch_size,\n",
    "    shuffle=True)"
   ]
  },
  {
   "cell_type": "code",
   "execution_count": null,
   "metadata": {},
   "outputs": [
    {
     "name": "stdout",
     "output_type": "stream",
     "text": [
      "Epoch 1/50\n",
      "142/142 [==============================] - 1242s - loss: 1.6152 - acc: 0.4311 - val_loss: 1.5447 - val_acc: 0.4375\n",
      "Epoch 2/50\n",
      "142/142 [==============================] - 1218s - loss: 1.2866 - acc: 0.5573 - val_loss: 1.2568 - val_acc: 0.5639\n",
      "Epoch 3/50\n",
      "142/142 [==============================] - 1287s - loss: 1.1050 - acc: 0.6340 - val_loss: 1.1370 - val_acc: 0.5940\n",
      "Epoch 4/50\n",
      "142/142 [==============================] - 1268s - loss: 0.9942 - acc: 0.6793 - val_loss: 1.0458 - val_acc: 0.6045\n",
      "Epoch 5/50\n",
      "142/142 [==============================] - 1273s - loss: 0.9009 - acc: 0.7058 - val_loss: 0.9923 - val_acc: 0.6150\n",
      "Epoch 6/50\n",
      "142/142 [==============================] - 1174s - loss: 0.8338 - acc: 0.7202 - val_loss: 0.9549 - val_acc: 0.6466\n",
      "Epoch 7/50\n",
      "142/142 [==============================] - 1235s - loss: 0.7977 - acc: 0.7365 - val_loss: 0.9338 - val_acc: 0.6406\n",
      "Epoch 8/50\n",
      "142/142 [==============================] - 1259s - loss: 0.7646 - acc: 0.7419 - val_loss: 0.8300 - val_acc: 0.6782\n",
      "Epoch 9/50\n",
      "142/142 [==============================] - 1276s - loss: 0.7186 - acc: 0.7630 - val_loss: 0.8831 - val_acc: 0.6662\n",
      "Epoch 10/50\n",
      "142/142 [==============================] - 1292s - loss: 0.6808 - acc: 0.7685 - val_loss: 0.8429 - val_acc: 0.6872\n",
      "Epoch 11/50\n",
      "142/142 [==============================] - 1306s - loss: 0.6666 - acc: 0.7731 - val_loss: 0.8208 - val_acc: 0.6827\n",
      "Epoch 12/50\n",
      "142/142 [==============================] - 1319s - loss: 0.6483 - acc: 0.7901 - val_loss: 0.7768 - val_acc: 0.7143\n",
      "Epoch 13/50\n",
      "142/142 [==============================] - 1328s - loss: 0.6210 - acc: 0.7917 - val_loss: 0.7697 - val_acc: 0.7098\n",
      "Epoch 14/50\n",
      "142/142 [==============================] - 1330s - loss: 0.5840 - acc: 0.7992 - val_loss: 0.8340 - val_acc: 0.6842\n",
      "Epoch 15/50\n",
      "142/142 [==============================] - 1378s - loss: 0.5906 - acc: 0.8033 - val_loss: 0.7797 - val_acc: 0.7053\n",
      "Epoch 16/50\n",
      "142/142 [==============================] - 1236s - loss: 0.5617 - acc: 0.8065 - val_loss: 0.7393 - val_acc: 0.7158\n",
      "Epoch 17/50\n",
      "142/142 [==============================] - 1196s - loss: 0.5282 - acc: 0.8238 - val_loss: 0.7459 - val_acc: 0.7368\n",
      "Epoch 18/50\n",
      "142/142 [==============================] - 1167s - loss: 0.5445 - acc: 0.8155 - val_loss: 0.6735 - val_acc: 0.7594\n",
      "Epoch 19/50\n",
      "142/142 [==============================] - 1299s - loss: 0.5011 - acc: 0.8229 - val_loss: 0.6736 - val_acc: 0.7519\n",
      "Epoch 20/50\n",
      "142/142 [==============================] - 1315s - loss: 0.4877 - acc: 0.8287 - val_loss: 0.6529 - val_acc: 0.7534\n",
      "Epoch 21/50\n",
      " 13/142 [=>............................] - ETA: 1299s - loss: 0.4789 - acc: 0.8341"
     ]
    }
   ],
   "source": [
    "history = model.fit_generator(\n",
    "    train_generator,\n",
    "    steps_per_epoch=train_generator.samples//batch_size,\n",
    "    epochs=epochs,\n",
    "    validation_data=validation_generator,\n",
    "    validation_steps=validation_generator.samples//batch_size\n",
    ")"
   ]
  },
  {
   "cell_type": "code",
   "execution_count": null,
   "metadata": {
    "collapsed": true
   },
   "outputs": [],
   "source": [
    "# plot results\n",
    "loss = history.history['loss']\n",
    "val_loss = history.history['val_loss']\n",
    "\n",
    "plt.plot(range(epochs), loss, marker='.', label='loss')\n",
    "plt.plot(range(epochs), val_loss, marker='.', label='val_loss')\n",
    "plt.legend(loc='best')\n",
    "plt.grid()\n",
    "plt.xlabel('epoch')\n",
    "plt.ylabel('acc')\n",
    "plt.show()"
   ]
  },
  {
   "cell_type": "code",
   "execution_count": null,
   "metadata": {
    "collapsed": true
   },
   "outputs": [],
   "source": [
    "# plot results\n",
    "loss = history.history['acc']\n",
    "val_loss = history.history['val_acc']\n",
    "\n",
    "plt.plot(range(epochs), loss, marker='.', label='acc')\n",
    "plt.plot(range(epochs), val_loss, marker='.', label='val_acc')\n",
    "plt.legend(loc='best')\n",
    "plt.grid()\n",
    "plt.xlabel('epoch')\n",
    "plt.ylabel('acc')\n",
    "plt.show()"
   ]
  },
  {
   "cell_type": "code",
   "execution_count": null,
   "metadata": {
    "collapsed": true
   },
   "outputs": [],
   "source": [
    "import pickle\n",
    "\n",
    "with open('./results/history-vgg19_1.pkl', mode='wb') as f:\n",
    "    pickle.dump(history.history, f)"
   ]
  },
  {
   "cell_type": "code",
   "execution_count": null,
   "metadata": {
    "collapsed": true
   },
   "outputs": [],
   "source": [
    "model.save('./results/model-vgg19_1.h5')"
   ]
  },
  {
   "cell_type": "code",
   "execution_count": null,
   "metadata": {
    "collapsed": true
   },
   "outputs": [],
   "source": []
  }
 ],
 "metadata": {
  "kernelspec": {
   "display_name": "Python 3",
   "language": "python",
   "name": "python3"
  },
  "language_info": {
   "codemirror_mode": {
    "name": "ipython",
    "version": 3
   },
   "file_extension": ".py",
   "mimetype": "text/x-python",
   "name": "python",
   "nbconvert_exporter": "python",
   "pygments_lexer": "ipython3",
   "version": "3.6.1"
  }
 },
 "nbformat": 4,
 "nbformat_minor": 2
}
